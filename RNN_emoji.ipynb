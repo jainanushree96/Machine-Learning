{
 "cells": [
  {
   "cell_type": "code",
   "execution_count": 51,
   "metadata": {},
   "outputs": [],
   "source": [
    "import numpy as np\n",
    "import pandas as pd"
   ]
  },
  {
   "cell_type": "code",
   "execution_count": 52,
   "metadata": {},
   "outputs": [],
   "source": [
    "x_train=pd.read_csv(\"emojify_train_x.txt\",header=None)\n",
    "y_train=pd.read_csv(\"Emojify_Y_train.txt\",header=None)\n",
    "x_test=pd.read_csv(\"emojiy_test_x.txt\",header=None)\n",
    "y_test=pd.read_csv(\"emojiy_y_test.txt\",header=None)\n"
   ]
  },
  {
   "cell_type": "code",
   "execution_count": 53,
   "metadata": {},
   "outputs": [],
   "source": [
    "y_train=[int(i) for i in y_train[0][0].split()]\n",
    "y_test=[int(i) for i in y_test[0][0].split()]"
   ]
  },
  {
   "cell_type": "code",
   "execution_count": 54,
   "metadata": {},
   "outputs": [],
   "source": [
    "x_train[0]=x_train[0].str.replace(\"'\",\"\")\n",
    "x_test[0]=x_test[0].str.replace(\"'\",\"\")"
   ]
  },
  {
   "cell_type": "code",
   "execution_count": 55,
   "metadata": {},
   "outputs": [],
   "source": [
    "import emoji "
   ]
  },
  {
   "cell_type": "code",
   "execution_count": 56,
   "metadata": {},
   "outputs": [],
   "source": [
    "emoji_dictionary={\"0\": \"\\u2764\\uFE0F\",    # :heart: prints a black instead of red heart depending on the font\n",
    "                    \"1\": \":baseball:\",\n",
    "                    \"2\": \":beaming_face_with_smiling_eyes:\",\n",
    "                    \"3\": \":downcast_face_with_sweat:\",\n",
    "                    \"4\": \":fork_and_knife:\"}"
   ]
  },
  {
   "cell_type": "code",
   "execution_count": 57,
   "metadata": {},
   "outputs": [
    {
     "data": {
      "text/html": [
       "<div>\n",
       "<style scoped>\n",
       "    .dataframe tbody tr th:only-of-type {\n",
       "        vertical-align: middle;\n",
       "    }\n",
       "\n",
       "    .dataframe tbody tr th {\n",
       "        vertical-align: top;\n",
       "    }\n",
       "\n",
       "    .dataframe thead th {\n",
       "        text-align: right;\n",
       "    }\n",
       "</style>\n",
       "<table border=\"1\" class=\"dataframe\">\n",
       "  <thead>\n",
       "    <tr style=\"text-align: right;\">\n",
       "      <th></th>\n",
       "      <th>0</th>\n",
       "    </tr>\n",
       "  </thead>\n",
       "  <tbody>\n",
       "    <tr>\n",
       "      <th>0</th>\n",
       "      <td>never talk to me again</td>\n",
       "    </tr>\n",
       "    <tr>\n",
       "      <th>1</th>\n",
       "      <td>I am proud of your achievements</td>\n",
       "    </tr>\n",
       "    <tr>\n",
       "      <th>2</th>\n",
       "      <td>It is the worst day in my life</td>\n",
       "    </tr>\n",
       "    <tr>\n",
       "      <th>3</th>\n",
       "      <td>Miss you so much</td>\n",
       "    </tr>\n",
       "    <tr>\n",
       "      <th>4</th>\n",
       "      <td>food is life</td>\n",
       "    </tr>\n",
       "    <tr>\n",
       "      <th>5</th>\n",
       "      <td>I love you mum</td>\n",
       "    </tr>\n",
       "    <tr>\n",
       "      <th>6</th>\n",
       "      <td>Stop saying bullshit</td>\n",
       "    </tr>\n",
       "    <tr>\n",
       "      <th>7</th>\n",
       "      <td>congratulations on your acceptance</td>\n",
       "    </tr>\n",
       "    <tr>\n",
       "      <th>8</th>\n",
       "      <td>The assignment is too long</td>\n",
       "    </tr>\n",
       "    <tr>\n",
       "      <th>9</th>\n",
       "      <td>I want to go play</td>\n",
       "    </tr>\n",
       "    <tr>\n",
       "      <th>10</th>\n",
       "      <td>she did not answer my text</td>\n",
       "    </tr>\n",
       "    <tr>\n",
       "      <th>11</th>\n",
       "      <td>Your stupidity has no limit</td>\n",
       "    </tr>\n",
       "    <tr>\n",
       "      <th>12</th>\n",
       "      <td>how many points did he score</td>\n",
       "    </tr>\n",
       "    <tr>\n",
       "      <th>13</th>\n",
       "      <td>my algorithm performs poorly</td>\n",
       "    </tr>\n",
       "    <tr>\n",
       "      <th>14</th>\n",
       "      <td>I got approved</td>\n",
       "    </tr>\n",
       "    <tr>\n",
       "      <th>15</th>\n",
       "      <td>Stop shouting at me</td>\n",
       "    </tr>\n",
       "    <tr>\n",
       "      <th>16</th>\n",
       "      <td>Sounds like a fun plan ha ha</td>\n",
       "    </tr>\n",
       "    <tr>\n",
       "      <th>17</th>\n",
       "      <td>no one likes him</td>\n",
       "    </tr>\n",
       "    <tr>\n",
       "      <th>18</th>\n",
       "      <td>the game just finished</td>\n",
       "    </tr>\n",
       "    <tr>\n",
       "      <th>19</th>\n",
       "      <td>I will celebrate soon</td>\n",
       "    </tr>\n",
       "    <tr>\n",
       "      <th>20</th>\n",
       "      <td>So sad you are not coming</td>\n",
       "    </tr>\n",
       "    <tr>\n",
       "      <th>21</th>\n",
       "      <td>She is my dearest love</td>\n",
       "    </tr>\n",
       "    <tr>\n",
       "      <th>22</th>\n",
       "      <td>Good job</td>\n",
       "    </tr>\n",
       "    <tr>\n",
       "      <th>23</th>\n",
       "      <td>It was funny lol</td>\n",
       "    </tr>\n",
       "    <tr>\n",
       "      <th>24</th>\n",
       "      <td>candy is life</td>\n",
       "    </tr>\n",
       "    <tr>\n",
       "      <th>25</th>\n",
       "      <td>The chicago cubs won again</td>\n",
       "    </tr>\n",
       "    <tr>\n",
       "      <th>26</th>\n",
       "      <td>I am hungry</td>\n",
       "    </tr>\n",
       "    <tr>\n",
       "      <th>27</th>\n",
       "      <td>I am so excited to see you after so long</td>\n",
       "    </tr>\n",
       "    <tr>\n",
       "      <th>28</th>\n",
       "      <td>you did well on you exam</td>\n",
       "    </tr>\n",
       "    <tr>\n",
       "      <th>29</th>\n",
       "      <td>lets brunch some day</td>\n",
       "    </tr>\n",
       "    <tr>\n",
       "      <th>...</th>\n",
       "      <td>...</td>\n",
       "    </tr>\n",
       "    <tr>\n",
       "      <th>102</th>\n",
       "      <td>Good joke</td>\n",
       "    </tr>\n",
       "    <tr>\n",
       "      <th>103</th>\n",
       "      <td>This specialization is great</td>\n",
       "    </tr>\n",
       "    <tr>\n",
       "      <th>104</th>\n",
       "      <td>you could not solve it</td>\n",
       "    </tr>\n",
       "    <tr>\n",
       "      <th>105</th>\n",
       "      <td>I am so happy for you</td>\n",
       "    </tr>\n",
       "    <tr>\n",
       "      <th>106</th>\n",
       "      <td>Congrats on the new job</td>\n",
       "    </tr>\n",
       "    <tr>\n",
       "      <th>107</th>\n",
       "      <td>I am proud of you forever</td>\n",
       "    </tr>\n",
       "    <tr>\n",
       "      <th>108</th>\n",
       "      <td>I want to eat</td>\n",
       "    </tr>\n",
       "    <tr>\n",
       "      <th>109</th>\n",
       "      <td>That catcher sucks</td>\n",
       "    </tr>\n",
       "    <tr>\n",
       "      <th>110</th>\n",
       "      <td>The first base man got the ball</td>\n",
       "    </tr>\n",
       "    <tr>\n",
       "      <th>111</th>\n",
       "      <td>this is bad</td>\n",
       "    </tr>\n",
       "    <tr>\n",
       "      <th>112</th>\n",
       "      <td>you did not do your homework</td>\n",
       "    </tr>\n",
       "    <tr>\n",
       "      <th>113</th>\n",
       "      <td>I will have a cheese cake</td>\n",
       "    </tr>\n",
       "    <tr>\n",
       "      <th>114</th>\n",
       "      <td>do you have a ball</td>\n",
       "    </tr>\n",
       "    <tr>\n",
       "      <th>115</th>\n",
       "      <td>the lectures are great though</td>\n",
       "    </tr>\n",
       "    <tr>\n",
       "      <th>116</th>\n",
       "      <td>Are you down for baseball this afternoon</td>\n",
       "    </tr>\n",
       "    <tr>\n",
       "      <th>117</th>\n",
       "      <td>what are the rules of the game</td>\n",
       "    </tr>\n",
       "    <tr>\n",
       "      <th>118</th>\n",
       "      <td>I am always working</td>\n",
       "    </tr>\n",
       "    <tr>\n",
       "      <th>119</th>\n",
       "      <td>where is the stadium</td>\n",
       "    </tr>\n",
       "    <tr>\n",
       "      <th>120</th>\n",
       "      <td>She is the cutest person I have ever seen</td>\n",
       "    </tr>\n",
       "    <tr>\n",
       "      <th>121</th>\n",
       "      <td>vegetables are healthy</td>\n",
       "    </tr>\n",
       "    <tr>\n",
       "      <th>122</th>\n",
       "      <td>he is handsome</td>\n",
       "    </tr>\n",
       "    <tr>\n",
       "      <th>123</th>\n",
       "      <td>too bad that you were not here</td>\n",
       "    </tr>\n",
       "    <tr>\n",
       "      <th>124</th>\n",
       "      <td>you are a loser</td>\n",
       "    </tr>\n",
       "    <tr>\n",
       "      <th>125</th>\n",
       "      <td>I love indian food</td>\n",
       "    </tr>\n",
       "    <tr>\n",
       "      <th>126</th>\n",
       "      <td>Who is down for a restaurant</td>\n",
       "    </tr>\n",
       "    <tr>\n",
       "      <th>127</th>\n",
       "      <td>he had to make a home run</td>\n",
       "    </tr>\n",
       "    <tr>\n",
       "      <th>128</th>\n",
       "      <td>I am ordering food</td>\n",
       "    </tr>\n",
       "    <tr>\n",
       "      <th>129</th>\n",
       "      <td>What is wrong with you</td>\n",
       "    </tr>\n",
       "    <tr>\n",
       "      <th>130</th>\n",
       "      <td>I love you</td>\n",
       "    </tr>\n",
       "    <tr>\n",
       "      <th>131</th>\n",
       "      <td>great job</td>\n",
       "    </tr>\n",
       "  </tbody>\n",
       "</table>\n",
       "<p>132 rows × 1 columns</p>\n",
       "</div>"
      ],
      "text/plain": [
       "                                             0\n",
       "0                      never talk to me again \n",
       "1              I am proud of your achievements\n",
       "2              It is the worst day in my life \n",
       "3                            Miss you so much \n",
       "4                                 food is life\n",
       "5                               I love you mum\n",
       "6                         Stop saying bullshit\n",
       "7          congratulations on your acceptance \n",
       "8                  The assignment is too long \n",
       "9                           I want to go play \n",
       "10                 she did not answer my text \n",
       "11                Your stupidity has no limit \n",
       "12                how many points did he score\n",
       "13                my algorithm performs poorly\n",
       "14                             I got approved \n",
       "15                         Stop shouting at me\n",
       "16               Sounds like a fun plan ha ha \n",
       "17                           no one likes him \n",
       "18                      the game just finished\n",
       "19                      I will celebrate soon \n",
       "20                   So sad you are not coming\n",
       "21                     She is my dearest love \n",
       "22                                   Good job \n",
       "23                           It was funny lol \n",
       "24                              candy is life \n",
       "25                 The chicago cubs won again \n",
       "26                                 I am hungry\n",
       "27   I am so excited to see you after so long \n",
       "28                    you did well on you exam\n",
       "29                       lets brunch some day \n",
       "..                                         ...\n",
       "102                                 Good joke \n",
       "103               This specialization is great\n",
       "104                    you could not solve it \n",
       "105                     I am so happy for you \n",
       "106                    Congrats on the new job\n",
       "107                 I am proud of you forever \n",
       "108                             I want to eat \n",
       "109                        That catcher sucks \n",
       "110           The first base man got the ball \n",
       "111                                this is bad\n",
       "112              you did not do your homework \n",
       "113                  I will have a cheese cake\n",
       "114                        do you have a ball \n",
       "115             the lectures are great though \n",
       "116   Are you down for baseball this afternoon\n",
       "117            what are the rules of the game \n",
       "118                        I am always working\n",
       "119                      where is the stadium \n",
       "120  She is the cutest person I have ever seen\n",
       "121                    vegetables are healthy \n",
       "122                             he is handsome\n",
       "123             too bad that you were not here\n",
       "124                           you are a loser \n",
       "125                        I love indian food \n",
       "126               Who is down for a restaurant\n",
       "127                 he had to make a home run \n",
       "128                        I am ordering food \n",
       "129                     What is wrong with you\n",
       "130                                I love you \n",
       "131                                  great job\n",
       "\n",
       "[132 rows x 1 columns]"
      ]
     },
     "execution_count": 57,
     "metadata": {},
     "output_type": "execute_result"
    }
   ],
   "source": [
    "x_train"
   ]
  },
  {
   "cell_type": "code",
   "execution_count": 58,
   "metadata": {},
   "outputs": [
    {
     "name": "stdout",
     "output_type": "stream",
     "text": [
      "never talk to me again  😓\n",
      "I am proud of your achievements 😁\n",
      "It is the worst day in my life  😓\n",
      "Miss you so much  ❤️\n",
      "food is life 🍴\n",
      "I love you mum ❤️\n",
      "Stop saying bullshit 😓\n",
      "congratulations on your acceptance  😁\n",
      "The assignment is too long  😓\n",
      "I want to go play  ⚾\n"
     ]
    }
   ],
   "source": [
    "for i in range(10):\n",
    "    print(x_train[0][i],emoji.emojize(emoji_dictionary[str(y_train[i])]))"
   ]
  },
  {
   "cell_type": "code",
   "execution_count": 59,
   "metadata": {},
   "outputs": [],
   "source": [
    "from keras.utils import to_categorical"
   ]
  },
  {
   "cell_type": "code",
   "execution_count": 60,
   "metadata": {},
   "outputs": [],
   "source": [
    "y_train=to_categorical(y_train)\n",
    "y_test=to_categorical(y_test)"
   ]
  },
  {
   "cell_type": "code",
   "execution_count": 61,
   "metadata": {},
   "outputs": [],
   "source": [
    "with open(\"glove.6B.50d.txt\",encoding=\"utf-8\") as f:\n",
    "    f=f.read()"
   ]
  },
  {
   "cell_type": "code",
   "execution_count": 62,
   "metadata": {},
   "outputs": [
    {
     "data": {
      "text/plain": [
       "','"
      ]
     },
     "execution_count": 62,
     "metadata": {},
     "output_type": "execute_result"
    }
   ],
   "source": [
    "f.split(\"\\n\")[1].split()[0]"
   ]
  },
  {
   "cell_type": "code",
   "execution_count": 63,
   "metadata": {},
   "outputs": [],
   "source": [
    "embedding={}\n",
    "f=f.split(\"\\n\")"
   ]
  },
  {
   "cell_type": "code",
   "execution_count": 64,
   "metadata": {},
   "outputs": [],
   "source": [
    "for i in range(len(f)-1):\n",
    "    embedding[f[i].split()[0]]=f[i].split()[1:]"
   ]
  },
  {
   "cell_type": "code",
   "execution_count": 65,
   "metadata": {},
   "outputs": [
    {
     "data": {
      "text/plain": [
       "50"
      ]
     },
     "execution_count": 65,
     "metadata": {},
     "output_type": "execute_result"
    }
   ],
   "source": [
    "len(embedding[\"the\"])"
   ]
  },
  {
   "cell_type": "code",
   "execution_count": 66,
   "metadata": {},
   "outputs": [
    {
     "data": {
      "text/plain": [
       "'n'"
      ]
     },
     "execution_count": 66,
     "metadata": {},
     "output_type": "execute_result"
    }
   ],
   "source": [
    "x_train[0][0][0]"
   ]
  },
  {
   "cell_type": "code",
   "execution_count": 67,
   "metadata": {},
   "outputs": [],
   "source": [
    "def getembeddingmatrix(x):\n",
    "    matrix=np.zeros((len(x),10,50,))\n",
    "    for i in range(matrix.shape[0]):\n",
    "        for j in range(len(x[i])):\n",
    "            try:\n",
    "                matrix[i][j]=embedding[x[i].split()[j].lower()]\n",
    "            except:\n",
    "                pass\n",
    "    return matrix"
   ]
  },
  {
   "cell_type": "code",
   "execution_count": 68,
   "metadata": {},
   "outputs": [],
   "source": [
    "embedding_matrix_train=getembeddingmatrix(x_train[0])\n",
    "embedding_matrix_test=getembeddingmatrix(x_test[0])\n",
    "\n"
   ]
  },
  {
   "cell_type": "code",
   "execution_count": 69,
   "metadata": {},
   "outputs": [],
   "source": [
    "from keras.layers import *\n",
    "from keras.models import Sequential\n",
    "\n"
   ]
  },
  {
   "cell_type": "code",
   "execution_count": 70,
   "metadata": {},
   "outputs": [
    {
     "name": "stdout",
     "output_type": "stream",
     "text": [
      "Model: \"sequential_2\"\n",
      "_________________________________________________________________\n",
      "Layer (type)                 Output Shape              Param #   \n",
      "=================================================================\n",
      "lstm_3 (LSTM)                (None, 10, 64)            29440     \n",
      "_________________________________________________________________\n",
      "dropout_3 (Dropout)          (None, 10, 64)            0         \n",
      "_________________________________________________________________\n",
      "lstm_4 (LSTM)                (None, 64)                33024     \n",
      "_________________________________________________________________\n",
      "dropout_4 (Dropout)          (None, 64)                0         \n",
      "_________________________________________________________________\n",
      "dense_2 (Dense)              (None, 5)                 325       \n",
      "_________________________________________________________________\n",
      "activation_2 (Activation)    (None, 5)                 0         \n",
      "=================================================================\n",
      "Total params: 62,789\n",
      "Trainable params: 62,789\n",
      "Non-trainable params: 0\n",
      "_________________________________________________________________\n"
     ]
    }
   ],
   "source": [
    "model=Sequential()\n",
    "model.add(LSTM(64,input_shape=(10,50),return_sequences=True))\n",
    "model.add(Dropout(0.4))\n",
    "model.add(LSTM(64))\n",
    "model.add(Dropout(0.3))\n",
    "model.add(Dense(5))\n",
    "model.add(Activation('softmax'))\n",
    "model.summary()"
   ]
  },
  {
   "cell_type": "code",
   "execution_count": 71,
   "metadata": {},
   "outputs": [],
   "source": [
    "model.compile(loss=\"categorical_crossentropy\",optimizer=\"adam\",metrics=['acc'])"
   ]
  },
  {
   "cell_type": "code",
   "execution_count": 72,
   "metadata": {},
   "outputs": [
    {
     "name": "stdout",
     "output_type": "stream",
     "text": [
      "Train on 118 samples, validate on 14 samples\n",
      "Epoch 1/40\n",
      "118/118 [==============================] - 3s 27ms/step - loss: 1.5852 - acc: 0.2458 - val_loss: 1.6393 - val_acc: 0.0714\n",
      "Epoch 2/40\n",
      "118/118 [==============================] - 0s 710us/step - loss: 1.5348 - acc: 0.3051 - val_loss: 1.6117 - val_acc: 0.1429\n",
      "Epoch 3/40\n",
      "118/118 [==============================] - 0s 654us/step - loss: 1.4916 - acc: 0.3983 - val_loss: 1.6261 - val_acc: 0.2143\n",
      "Epoch 4/40\n",
      "118/118 [==============================] - 0s 639us/step - loss: 1.4672 - acc: 0.3305 - val_loss: 1.6067 - val_acc: 0.3571\n",
      "Epoch 5/40\n",
      "118/118 [==============================] - 0s 695us/step - loss: 1.4131 - acc: 0.4661 - val_loss: 1.5764 - val_acc: 0.2857\n",
      "Epoch 6/40\n",
      "118/118 [==============================] - 0s 558us/step - loss: 1.3601 - acc: 0.4322 - val_loss: 1.5190 - val_acc: 0.3571\n",
      "Epoch 7/40\n",
      "118/118 [==============================] - 0s 578us/step - loss: 1.2660 - acc: 0.5169 - val_loss: 1.4576 - val_acc: 0.2857\n",
      "Epoch 8/40\n",
      "118/118 [==============================] - 0s 579us/step - loss: 1.1640 - acc: 0.5932 - val_loss: 1.3715 - val_acc: 0.4286\n",
      "Epoch 9/40\n",
      "118/118 [==============================] - 0s 611us/step - loss: 1.0833 - acc: 0.5932 - val_loss: 1.3093 - val_acc: 0.4286\n",
      "Epoch 10/40\n",
      "118/118 [==============================] - 0s 750us/step - loss: 0.9914 - acc: 0.6610 - val_loss: 1.2895 - val_acc: 0.5000\n",
      "Epoch 11/40\n",
      "118/118 [==============================] - 0s 850us/step - loss: 0.8913 - acc: 0.6780 - val_loss: 1.3142 - val_acc: 0.5000\n",
      "Epoch 12/40\n",
      "118/118 [==============================] - 0s 531us/step - loss: 0.8342 - acc: 0.7034 - val_loss: 1.3436 - val_acc: 0.4286\n",
      "Epoch 13/40\n",
      "118/118 [==============================] - 0s 513us/step - loss: 0.7059 - acc: 0.7712 - val_loss: 1.2758 - val_acc: 0.5000\n",
      "Epoch 14/40\n",
      "118/118 [==============================] - 0s 652us/step - loss: 0.6589 - acc: 0.8305 - val_loss: 1.3867 - val_acc: 0.5000\n",
      "Epoch 15/40\n",
      "118/118 [==============================] - 0s 709us/step - loss: 0.5466 - acc: 0.8644 - val_loss: 1.1115 - val_acc: 0.5714\n",
      "Epoch 16/40\n",
      "118/118 [==============================] - 0s 657us/step - loss: 0.5417 - acc: 0.8390 - val_loss: 0.8892 - val_acc: 0.6429\n",
      "Epoch 17/40\n",
      "118/118 [==============================] - 0s 695us/step - loss: 0.5249 - acc: 0.8559 - val_loss: 1.4075 - val_acc: 0.5000\n",
      "Epoch 18/40\n",
      "118/118 [==============================] - 0s 732us/step - loss: 0.4487 - acc: 0.8559 - val_loss: 0.8269 - val_acc: 0.7143\n",
      "Epoch 19/40\n",
      "118/118 [==============================] - 0s 562us/step - loss: 0.3966 - acc: 0.8729 - val_loss: 1.1169 - val_acc: 0.6429\n",
      "Epoch 20/40\n",
      "118/118 [==============================] - 0s 743us/step - loss: 0.3543 - acc: 0.8814 - val_loss: 1.0102 - val_acc: 0.7143\n",
      "Epoch 21/40\n",
      "118/118 [==============================] - 0s 643us/step - loss: 0.3498 - acc: 0.8559 - val_loss: 0.9201 - val_acc: 0.7143\n",
      "Epoch 22/40\n",
      "118/118 [==============================] - 0s 690us/step - loss: 0.3848 - acc: 0.8729 - val_loss: 1.1810 - val_acc: 0.6429\n",
      "Epoch 23/40\n",
      "118/118 [==============================] - 0s 550us/step - loss: 0.2788 - acc: 0.8983 - val_loss: 0.9257 - val_acc: 0.5714\n",
      "Epoch 24/40\n",
      "118/118 [==============================] - 0s 537us/step - loss: 0.2960 - acc: 0.8983 - val_loss: 1.2387 - val_acc: 0.6429\n",
      "Epoch 25/40\n",
      "118/118 [==============================] - 0s 727us/step - loss: 0.3463 - acc: 0.8898 - val_loss: 0.8256 - val_acc: 0.7143\n",
      "Epoch 26/40\n",
      "118/118 [==============================] - 0s 559us/step - loss: 0.2499 - acc: 0.9407 - val_loss: 0.7751 - val_acc: 0.7857\n",
      "Epoch 27/40\n",
      "118/118 [==============================] - 0s 745us/step - loss: 0.1741 - acc: 0.9492 - val_loss: 1.5530 - val_acc: 0.5000\n",
      "Epoch 28/40\n",
      "118/118 [==============================] - 0s 683us/step - loss: 0.2286 - acc: 0.9407 - val_loss: 0.8461 - val_acc: 0.7143\n",
      "Epoch 29/40\n",
      "118/118 [==============================] - 0s 650us/step - loss: 0.2211 - acc: 0.9322 - val_loss: 1.0732 - val_acc: 0.7143\n",
      "Epoch 30/40\n",
      "118/118 [==============================] - 0s 644us/step - loss: 0.1846 - acc: 0.9576 - val_loss: 1.5444 - val_acc: 0.5714\n",
      "Epoch 31/40\n",
      "118/118 [==============================] - 0s 641us/step - loss: 0.1293 - acc: 0.9746 - val_loss: 0.9071 - val_acc: 0.7857\n",
      "Epoch 32/40\n",
      "118/118 [==============================] - 0s 563us/step - loss: 0.1333 - acc: 0.9576 - val_loss: 0.9739 - val_acc: 0.6429\n",
      "Epoch 33/40\n",
      "118/118 [==============================] - 0s 581us/step - loss: 0.0989 - acc: 0.9831 - val_loss: 1.4145 - val_acc: 0.6429\n",
      "Epoch 34/40\n",
      "118/118 [==============================] - 0s 493us/step - loss: 0.1084 - acc: 0.9576 - val_loss: 0.9915 - val_acc: 0.7857\n",
      "Epoch 35/40\n",
      "118/118 [==============================] - 0s 594us/step - loss: 0.0882 - acc: 0.9915 - val_loss: 1.0385 - val_acc: 0.6429\n",
      "Epoch 36/40\n",
      "118/118 [==============================] - 0s 476us/step - loss: 0.0953 - acc: 0.9746 - val_loss: 1.2347 - val_acc: 0.6429\n",
      "Epoch 37/40\n",
      "118/118 [==============================] - 0s 498us/step - loss: 0.0624 - acc: 0.9831 - val_loss: 1.0708 - val_acc: 0.7857\n",
      "Epoch 38/40\n",
      "118/118 [==============================] - 0s 528us/step - loss: 0.0514 - acc: 0.9915 - val_loss: 1.0268 - val_acc: 0.7143\n",
      "Epoch 39/40\n",
      "118/118 [==============================] - 0s 637us/step - loss: 0.0426 - acc: 0.9915 - val_loss: 1.1350 - val_acc: 0.7143\n",
      "Epoch 40/40\n",
      "118/118 [==============================] - 0s 855us/step - loss: 0.0566 - acc: 0.9831 - val_loss: 1.3604 - val_acc: 0.7143\n"
     ]
    },
    {
     "data": {
      "text/plain": [
       "<keras.callbacks.History at 0x272665bf3c8>"
      ]
     },
     "execution_count": 72,
     "metadata": {},
     "output_type": "execute_result"
    }
   ],
   "source": [
    "model.fit(embedding_matrix_train,y_train,epochs=40,batch_size=32,validation_split=0.1,shuffle=True)"
   ]
  },
  {
   "cell_type": "code",
   "execution_count": 73,
   "metadata": {},
   "outputs": [
    {
     "name": "stdout",
     "output_type": "stream",
     "text": [
      "56/56 [==============================] - 0s 304us/step\n"
     ]
    },
    {
     "data": {
      "text/plain": [
       "[0.9367437958717346, 0.75]"
      ]
     },
     "execution_count": 73,
     "metadata": {},
     "output_type": "execute_result"
    }
   ],
   "source": [
    "model.evaluate(embedding_matrix_test,y_test)"
   ]
  },
  {
   "cell_type": "code",
   "execution_count": 74,
   "metadata": {},
   "outputs": [
    {
     "data": {
      "text/plain": [
       "array([4, 3, 2, 0, 2, 2, 3, 2, 4, 2, 1, 2, 0, 3, 1, 3, 3, 2, 3, 2, 2, 0,\n",
       "       4, 2, 3, 3, 1, 2, 1, 2, 0, 1, 2, 2, 3, 1, 2, 4, 4, 2, 1, 0, 0, 1,\n",
       "       2, 2, 3, 2, 3, 1, 3, 0, 3, 2, 2, 0], dtype=int64)"
      ]
     },
     "execution_count": 74,
     "metadata": {},
     "output_type": "execute_result"
    }
   ],
   "source": [
    "model.predict_classes(embedding_matrix_test)"
   ]
  },
  {
   "cell_type": "code",
   "execution_count": 76,
   "metadata": {},
   "outputs": [
    {
     "name": "stdout",
     "output_type": "stream",
     "text": [
      "I want to eat  🍴\n",
      "he did not answer 😓\n",
      "he got a very nice raise 😁\n",
      "she got me a nice present 😁\n",
      "ha ha ha it was so funny 😁\n",
      "he is a good friend  😁\n",
      "I am upset 😓\n",
      "We had such a lovely dinner tonight  😁\n",
      "where is the food 🍴\n",
      "Stop making this joke ha ha ha 😁\n"
     ]
    }
   ],
   "source": [
    "for i in range(10):\n",
    "    print(x_test[0][i],emoji.emojize(emoji_dictiona   ry[str(np.argmax(y_test[i]))]))\n",
    "    "
   ]
  },
  {
   "cell_type": "code",
   "execution_count": null,
   "metadata": {},
   "outputs": [],
   "source": []
  }
 ],
 "metadata": {
  "kernelspec": {
   "display_name": "Python 3",
   "language": "python",
   "name": "python3"
  },
  "language_info": {
   "codemirror_mode": {
    "name": "ipython",
    "version": 3
   },
   "file_extension": ".py",
   "mimetype": "text/x-python",
   "name": "python",
   "nbconvert_exporter": "python",
   "pygments_lexer": "ipython3",
   "version": "3.6.5"
  }
 },
 "nbformat": 4,
 "nbformat_minor": 2
}
