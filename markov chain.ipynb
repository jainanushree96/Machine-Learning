{
 "cells": [
  {
   "cell_type": "code",
   "execution_count": 1,
   "metadata": {},
   "outputs": [],
   "source": [
    "data=\"hello hello helli\""
   ]
  },
  {
   "cell_type": "code",
   "execution_count": 2,
   "metadata": {},
   "outputs": [],
   "source": [
    "def generatetable(data,k=4):\n",
    "    T={}\n",
    "    for i in range(len(data)-4):\n",
    "        X=data[i:i+k]\n",
    "        Y=data[i+k]\n",
    "        if T.get(X) is None:\n",
    "            T[X]={}\n",
    "            T[X][Y]=1\n",
    "        elif T[X].get(Y) is None:\n",
    "            T[X][Y]=1\n",
    "        else:\n",
    "            T[X][Y]+=1\n",
    "            \n",
    "    return T       \n",
    "    "
   ]
  },
  {
   "cell_type": "code",
   "execution_count": 3,
   "metadata": {},
   "outputs": [],
   "source": [
    "table=(generatetable(data))"
   ]
  },
  {
   "cell_type": "code",
   "execution_count": 4,
   "metadata": {},
   "outputs": [],
   "source": [
    "def convert_to_prob(table):\n",
    "    for i in table:\n",
    "        s=sum(table[i].values())\n",
    "        for k in table[i]:\n",
    "            table[i][k]=table[i][k]/s\n",
    "    return table"
   ]
  },
  {
   "cell_type": "code",
   "execution_count": 5,
   "metadata": {},
   "outputs": [],
   "source": [
    "table=convert_to_prob(table)"
   ]
  },
  {
   "cell_type": "code",
   "execution_count": 6,
   "metadata": {},
   "outputs": [
    {
     "data": {
      "text/plain": [
       "{'hell': {'o': 0.6666666666666666, 'i': 0.3333333333333333},\n",
       " 'ello': {' ': 1.0},\n",
       " 'llo ': {'h': 1.0},\n",
       " 'lo h': {'e': 1.0},\n",
       " 'o he': {'l': 1.0},\n",
       " ' hel': {'l': 1.0}}"
      ]
     },
     "execution_count": 6,
     "metadata": {},
     "output_type": "execute_result"
    }
   ],
   "source": [
    "table"
   ]
  },
  {
   "cell_type": "code",
   "execution_count": 7,
   "metadata": {},
   "outputs": [],
   "source": [
    "file=open(\"Apna Time Aayega.txt\",\"r\",encoding=\"utf8\")"
   ]
  },
  {
   "cell_type": "code",
   "execution_count": 23,
   "metadata": {},
   "outputs": [],
   "source": [
    "df=file.read().lower()"
   ]
  },
  {
   "cell_type": "code",
   "execution_count": 10,
   "metadata": {},
   "outputs": [],
   "source": [
    "###df=df.replace(\"\\n\",\"?\")"
   ]
  },
  {
   "cell_type": "code",
   "execution_count": 11,
   "metadata": {},
   "outputs": [],
   "source": [
    "###Train my model\n",
    "df=(generatetable(df))\n",
    "df=convert_to_prob(df)"
   ]
  },
  {
   "cell_type": "code",
   "execution_count": 22,
   "metadata": {},
   "outputs": [
    {
     "data": {
      "text/plain": [
       "{'\\n': 0.96, ' ': 0.04}"
      ]
     },
     "execution_count": 22,
     "metadata": {},
     "output_type": "execute_result"
    }
   ],
   "source": [
    "df[\"yega\"]"
   ]
  },
  {
   "cell_type": "code",
   "execution_count": 13,
   "metadata": {},
   "outputs": [],
   "source": [
    "def next_char(txt,k,table):\n",
    "    c=txt[-k:]\n",
    "    if table.get(c) is None:\n",
    "        return (\" \")\n",
    "    else:\n",
    "        ###sampling\n",
    "        return(numpy.random.choice(list(table[c].keys()),p=list(table[c].values())))\n",
    "        \n",
    "    \n",
    "    \n",
    "    "
   ]
  },
  {
   "cell_type": "code",
   "execution_count": 14,
   "metadata": {},
   "outputs": [
    {
     "name": "stdout",
     "output_type": "stream",
     "text": [
      " \n"
     ]
    }
   ],
   "source": [
    "print(next_char(\"dear\",4,df))"
   ]
  },
  {
   "cell_type": "code",
   "execution_count": 15,
   "metadata": {},
   "outputs": [],
   "source": [
    "def generate_text(txt,k,table,maxlen):\n",
    "    sentence=txt\n",
    "\n",
    "    for i in range(maxlen):\n",
    "        sentence+=(next_char(sentence,k,table))\n",
    "    return sentence\n",
    "        \n",
    "        \n",
    "        \n",
    "    \n",
    "    "
   ]
  },
  {
   "cell_type": "code",
   "execution_count": 16,
   "metadata": {},
   "outputs": [],
   "source": [
    "import numpy\n",
    "numpy.random.seed(11)\n",
    "output=generate_text(\"apna\",4,df,2000)"
   ]
  },
  {
   "cell_type": "code",
   "execution_count": 17,
   "metadata": {},
   "outputs": [],
   "source": [
    "##output=output.replace(\"?\",\"\\n\")"
   ]
  },
  {
   "cell_type": "code",
   "execution_count": 18,
   "metadata": {},
   "outputs": [],
   "source": [
    "f=open('file.txt','a',encoding=\"utf8\")\n",
    "f.write(output)\n",
    "f.close()"
   ]
  },
  {
   "cell_type": "code",
   "execution_count": 20,
   "metadata": {},
   "outputs": [
    {
     "name": "stdout",
     "output_type": "stream",
     "text": [
      "apna time aaya hath nahi\n",
      "utna hi to aaya hai seene se\n",
      "matlab bana lala\n",
      "mere bhai tu\n",
      "utna time aaya hai\n",
      "phir bhi satayega\n",
      "\n",
      "tu nanga hi to aaya hairat ki ab laalach nai harkat ki\n",
      "adalat yeh hai, aafat ki ab aadat ki apni rehmat mein\n",
      " \n",
      "kyon\n",
      "kyon?\n",
      " \n",
      "tu nanga hi to aaya hath nahi hai\n",
      "tere bhai chheene de\n",
      "ab kaise tu dafnayega\n",
      " \n",
      "yeh hai\n",
      "kyon\n",
      "kyon?\n",
      " \n",
      "taakat ki\n",
      "himaakat di hai\n",
      "phir bhi sar uthayega\n",
      " \n",
      "tu nanga hi to aaya hai\n",
      "kya ghanta lekar jaayega\n",
      " \n",
      "tu nanga hi to aayega\n",
      " \n",
      "tu nanga hi to aayega\n",
      "jitni taakat ki\n",
      "jeetne ki\n",
      "aur jurrat ki, amaana lala\n",
      "tujhe na mil payega\n",
      "\n",
      "tu nanga hi tha sar uthayega\n",
      "apna time aayega\n",
      "apna time aayega\n",
      "apna time aaya hai chahat ki, aafat ki, ibaadat kismat mein\n",
      " \n",
      "kyon ki hai, aafat ki\n",
      "jeetne ki hai jaisa koyi hard’ch nai hai seene mein\n",
      " \n",
      "kyon?\n",
      " \n",
      "taakat di hai\n",
      " \n",
      "taakat ne hi to khauf nahi\n",
      "utni raakh se\n",
      "matlab bana lala\n",
      "mere jaisa koyi hairat yeh shaan pighlayega\n",
      "\n",
      "tu nanga hi tha sar uthayega\n",
      "jitni raaste ko bhi satayega\n",
      "aisa koyi hai tu\n",
      "utni raakh se\n",
      "matlab bana lala\n",
      "tujhe na mil payega\n",
      "jitna time aaya hai\n",
      "kyon ki hairat ki\n",
      "mohobbat kismat mein\n",
      "har raakh se\n",
      "tu nanga hi to aaya hai\n",
      "tere jaisa shaan parwaaz dekh parwaaz dekh par\n",
      "yahaanat se jeene se\n",
      "matlab bana ab aadat ki\n",
      "jeetne ki mehnat ki\n",
      "mohobbat ki\n",
      "aur jurrat yahaan marzi ki\n",
      "adalat yeh shabdon ki ab aadat ki apna time aaya khwaab\n",
      "ab kaise tu ghanta lekar jaayega\n",
      "uth ja ab jeene mein hai\n",
      "phir bhi sar uthayega\n",
      "jitna time aaya hath nahi\n",
      "utna time aaya hairat ki, ibaadat kismat mein nahi to aayega\n",
      "kya ghanta lekar jaayega\n",
      "jitni raakh se\n",
      "tu nanga hi to aayega\n",
      " \n",
      "tu udd ja apna time aaya hai\n",
      "kya ghanta lekar..\n",
      " \n",
      "kyon?\n",
      " \n",
      "tu nanga hi to aaya khwaab\n",
      "ab kuchh mila paseene se\n",
      "tu nanga hi to aaya hai\n",
      "kya ghanta lekar jaayega\n",
      "\n",
      "tu nanga hi to aaya hai chheene de\n",
      "ab hai\n",
      " \n",
      "tu nanga hi barkat ki mehnat se main\n",
      "jitna hi to aayega apna time aaya hai\n",
      "phir bhi sar uthayega\n",
      "aayega\n",
      "aayega\n",
      "apna time aayega\n",
      "uth ja ab jeenenge\n",
      "hum kaamyabi chahat ki apna time aayega\n",
      "\n",
      "tu nanga hi to aayega\n",
      "apna time aayega\n",
      "kya ghanta lekar j\n"
     ]
    }
   ],
   "source": [
    "print(output)"
   ]
  },
  {
   "cell_type": "code",
   "execution_count": null,
   "metadata": {},
   "outputs": [],
   "source": []
  },
  {
   "cell_type": "code",
   "execution_count": null,
   "metadata": {},
   "outputs": [],
   "source": []
  },
  {
   "cell_type": "code",
   "execution_count": null,
   "metadata": {},
   "outputs": [],
   "source": []
  },
  {
   "cell_type": "code",
   "execution_count": null,
   "metadata": {},
   "outputs": [],
   "source": []
  }
 ],
 "metadata": {
  "kernelspec": {
   "display_name": "Python 3",
   "language": "python",
   "name": "python3"
  },
  "language_info": {
   "codemirror_mode": {
    "name": "ipython",
    "version": 3
   },
   "file_extension": ".py",
   "mimetype": "text/x-python",
   "name": "python",
   "nbconvert_exporter": "python",
   "pygments_lexer": "ipython3",
   "version": "3.6.5"
  }
 },
 "nbformat": 4,
 "nbformat_minor": 2
}
