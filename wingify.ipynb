{
 "cells": [
  {
   "cell_type": "code",
   "execution_count": 1,
   "metadata": {},
   "outputs": [],
   "source": [
    "from scipy.stats import beta\n",
    "import matplotlib.pyplot as plt\n",
    "import numpy as np\n",
    "from math import *"
   ]
  },
  {
   "cell_type": "code",
   "execution_count": 14,
   "metadata": {},
   "outputs": [],
   "source": [
    "def func(v,c):\n",
    "    #v=number of visitors\n",
    "    #c=number of conversions\n",
    "    x = np.linspace(0,1,1000)\n",
    "    prior=beta(1,1)\n",
    "    a_cap=1+c\n",
    "    b_cap=1+v-c\n",
    "    post=beta(a_cap,b_cap)\n",
    "    plt.plot(x,prior.pdf(x),'r')\n",
    "    plt.plot(x,post.pdf(x),'g')\n",
    "    plt.show()\n",
    "    print()\n",
    "    #formula of mean \n",
    "    mean=(a_cap)/(a_cap+b_cap)\n",
    "    print(\"mean is: \",mean*100)\n",
    "    #formula of variance\n",
    "    var=(a_cap*b_cap)/(((a_cap+b_cap)**2)*(a_cap+b_cap+1))\n",
    "    print(\"var is: \",var*100)\n",
    "    #formula of median\n",
    "    median=(a_cap-(1/3))/(a_cap+b_cap-(2/3))\n",
    "    print(\"median is: \",median*100)\n",
    "    #for 99% credible interval the z-value=2.58\n",
    "    margin_of_error=2.58*sqrt(var/v)\n",
    "    print(margin_of_error)\n",
    "    print(\"range in 99% credible interval is\",(mean-margin_of_error)*100,\" and \",(mean+margin_of_error)*100)\n",
    "    "
   ]
  },
  {
   "cell_type": "code",
   "execution_count": 15,
   "metadata": {},
   "outputs": [
    {
     "data": {
      "image/png": "[encoded data removed]",
      "text/plain": [
       "<Figure size 432x288 with 1 Axes>"
      ]
     },
     "metadata": {
      "needs_background": "light"
     },
     "output_type": "display_data"
    },
    {
     "name": "stdout",
     "output_type": "stream",
     "text": [
      "\n",
      "mean is:  34.31372549019608\n",
      "var is:  0.21882920310709472\n",
      "median is:  34.21052631578947\n",
      "0.012069029404065868\n",
      "range in 99% credible interval is 33.10682254978949  and  35.52062843060266\n"
     ]
    }
   ],
   "source": [
    "func(100,34)"
   ]
  },
  {
   "cell_type": "code",
   "execution_count": null,
   "metadata": {},
   "outputs": [],
   "source": []
  },
  {
   "cell_type": "code",
   "execution_count": null,
   "metadata": {},
   "outputs": [],
   "source": []
  },
  {
   "cell_type": "code",
   "execution_count": null,
   "metadata": {},
   "outputs": [],
   "source": []
  },
  {
   "cell_type": "code",
   "execution_count": null,
   "metadata": {},
   "outputs": [],
   "source": []
  }
 ],
 "metadata": {
  "kernelspec": {
   "display_name": "Python 3",
   "language": "python",
   "name": "python3"
  },
  "language_info": {
   "codemirror_mode": {
    "name": "ipython",
    "version": 3
   },
   "file_extension": ".py",
   "mimetype": "text/x-python",
   "name": "python",
   "nbconvert_exporter": "python",
   "pygments_lexer": "ipython3",
   "version": "3.7.0"
  }
 },
 "nbformat": 4,
 "nbformat_minor": 2
}
