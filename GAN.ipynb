{
 "cells": [
  {
   "cell_type": "code",
   "execution_count": null,
   "metadata": {},
   "outputs": [
    {
     "name": "stderr",
     "output_type": "stream",
     "text": [
      "C:\\Users\\LENOVO\\Anaconda3\\lib\\site-packages\\h5py\\__init__.py:36: FutureWarning: Conversion of the second argument of issubdtype from `float` to `np.floating` is deprecated. In future, it will be treated as `np.float64 == np.dtype(float).type`.\n",
      "  from ._conv import register_converters as _register_converters\n",
      "Using TensorFlow backend.\n"
     ]
    }
   ],
   "source": [
    "from keras.datasets import mnist\n",
    "from keras.layers import *\n",
    "from keras.layers.advanced_activations import LeakyReLU\n",
    "from keras.optimizers import Adam\n",
    "from keras.models import Sequential, Model\n",
    "\n"
   ]
  },
  {
   "cell_type": "code",
   "execution_count": null,
   "metadata": {},
   "outputs": [],
   "source": [
    "(X_train,_),(_,_)=mnist.load_data()"
   ]
  },
  {
   "cell_type": "code",
   "execution_count": null,
   "metadata": {},
   "outputs": [],
   "source": [
    "print(X_train.shape)"
   ]
  },
  {
   "cell_type": "code",
   "execution_count": null,
   "metadata": {},
   "outputs": [],
   "source": [
    "X_train=X_train.reshape(60000,-1)"
   ]
  },
  {
   "cell_type": "code",
   "execution_count": null,
   "metadata": {},
   "outputs": [],
   "source": [
    "import matplotlib.pyplot as plt\n"
   ]
  },
  {
   "cell_type": "code",
   "execution_count": null,
   "metadata": {},
   "outputs": [],
   "source": [
    "X_train=(X_train.astype('float32')-127.5)/127.5"
   ]
  },
  {
   "cell_type": "code",
   "execution_count": null,
   "metadata": {},
   "outputs": [],
   "source": [
    "import numpy as np\n",
    "np.max(X_train)"
   ]
  },
  {
   "cell_type": "code",
   "execution_count": null,
   "metadata": {},
   "outputs": [],
   "source": [
    "np.min(X_train)"
   ]
  },
  {
   "cell_type": "code",
   "execution_count": null,
   "metadata": {},
   "outputs": [],
   "source": [
    "noise_size=10"
   ]
  },
  {
   "cell_type": "code",
   "execution_count": null,
   "metadata": {},
   "outputs": [],
   "source": [
    "##generator\n",
    "generator=Sequential()\n",
    "generator.add(Dense(256,input_dim=noise_size))\n",
    "generator.add(LeakyReLU(0.2))\n",
    "generator.add(Dense(512))\n",
    "generator.add(LeakyReLU(0.2))\n",
    "generator.add(Dense(1024))\n",
    "generator.add(LeakyReLU(0.2))\n",
    "generator.add(Dense(784,activation=\"tanh\"))\n",
    "generator.compile(loss=\"binary_crossentropy\",optimizer=Adam(lr=2e-4,beta_1=0.5))\n",
    "generator.summary()"
   ]
  },
  {
   "cell_type": "code",
   "execution_count": null,
   "metadata": {},
   "outputs": [],
   "source": [
    "discriminator = Sequential()\n",
    "discriminator.add(Dense(512,input_shape=(784,)))\n",
    "discriminator.add(LeakyReLU(0.2))\n",
    "discriminator.add(Dense(256))\n",
    "discriminator.add(LeakyReLU(0.2))\n",
    "discriminator.add(Dense(1,activation=\"tanh\"))\n",
    "##sigmoid\n",
    "discriminator.compile(loss=\"binary_crossentropy\",optimizer=Adam(lr=2e-4,beta_1=0.5))\n",
    "discriminator.summary()"
   ]
  },
  {
   "cell_type": "code",
   "execution_count": null,
   "metadata": {},
   "outputs": [],
   "source": [
    "discriminator.trainable=False\n",
    "gan_input=Input(shape=(noise_size,))\n",
    "y_out=generator(gan_input)\n",
    "gan_output=discriminator(y_out)\n",
    "model=Model(gan_input,gan_output)\n",
    "model.compile(loss=\"binary_crossentropy\",optimizer=Adam(lr=2e-4,beta_1=0.5))"
   ]
  },
  {
   "cell_type": "code",
   "execution_count": null,
   "metadata": {},
   "outputs": [],
   "source": [
    "def print_img(samples=100):\n",
    "    noise=np.random.normal(0,1,size=(samples,10))\n",
    "    imgs=generator.predict(noise)\n",
    "    imgs=imgs.reshape(samples,28,28)\n",
    "    plt.figure(figsize=(10,10))\n",
    "    for i in range(samples):\n",
    "        plt.subplot(10,10,i+1)\n",
    "        plt.axis(\"off\")\n",
    "        plt.imshow(imgs[i],cmap=\"gray\")\n",
    "    plt.show()\n",
    "    ##cmap=gray\n",
    "    plt.tight_layout()\n",
    "         \n",
    "        "
   ]
  },
  {
   "cell_type": "code",
   "execution_count": null,
   "metadata": {},
   "outputs": [],
   "source": [
    "import random\n",
    "epochs=10000\n",
    "total_loss=[]\n",
    "loss=[]\n",
    "for epoch in range(epochs):\n",
    "    ##step1\n",
    "    half_batch=int(X_train.shape[0]/2)\n",
    "    noise=np.random.normal(0,1,size=(half_batch,noise_size))\n",
    "    fake_img=generator.predict(noise)\n",
    "    idx=np.random.randint(0,X_train.shape[0],half_batch)\n",
    "    real_img=X_train[idx]\n",
    "    \n",
    "    ###one sided label smoothing\n",
    "    real_y=np.ones((half_batch,1))*0.9\n",
    "    fake_y=np.zeros((half_batch,1))\n",
    "    d_loss_f=discriminator.train_on_batch(fake_img,fake_y)\n",
    "    d_loss_r=discriminator.train_on_batch(real_img,real_y) \n",
    "    total_loss.append(d_loss_f*0.5+d_loss_r*0.5)\n",
    "    ##step2\n",
    "    noise=np.random.normal(0,1,(X_train.shape[0],noise_size))\n",
    "    ground_truth=np.ones((X_train.shape[0],1))\n",
    "    g_loss=model.train_on_batch(noise,ground_truth)\n",
    "    loss.append(g_loss)\n",
    "    \n",
    "    if(epoch+1)%250==0:\n",
    "        print(\"generator %.2f discriminator %.2f\" %(g_loss,d_loss_f*0.5+d_loss_r*0.5))\n",
    "        print_img()\n",
    "        \n",
    "\n",
    "\n"
   ]
  },
  {
   "cell_type": "code",
   "execution_count": null,
   "metadata": {},
   "outputs": [],
   "source": []
  }
 ],
 "metadata": {
  "kernelspec": {
   "display_name": "Python 3",
   "language": "python",
   "name": "python3"
  },
  "language_info": {
   "codemirror_mode": {
    "name": "ipython",
    "version": 3
   },
   "file_extension": ".py",
   "mimetype": "text/x-python",
   "name": "python",
   "nbconvert_exporter": "python",
   "pygments_lexer": "ipython3",
   "version": "3.6.5"
  }
 },
 "nbformat": 4,
 "nbformat_minor": 2
}
